{
  "nbformat": 4,
  "nbformat_minor": 0,
  "metadata": {
    "colab": {
      "provenance": [],
      "authorship_tag": "ABX9TyM/Og3e9c1pRsv8NPaX8PI8",
      "include_colab_link": true
    },
    "kernelspec": {
      "name": "python3",
      "display_name": "Python 3"
    },
    "language_info": {
      "name": "python"
    }
  },
  "cells": [
    {
      "cell_type": "markdown",
      "metadata": {
        "id": "view-in-github",
        "colab_type": "text"
      },
      "source": [
        "<a href=\"https://colab.research.google.com/github/Edgarbahati/BAHATI_25011938/blob/master/Untitled6.ipynb\" target=\"_parent\"><img src=\"https://colab.research.google.com/assets/colab-badge.svg\" alt=\"Open In Colab\"/></a>"
      ]
    },
    {
      "cell_type": "code",
      "execution_count": 11,
      "metadata": {
        "colab": {
          "base_uri": "https://localhost:8080/"
        },
        "id": "Lrjw2TCyABjQ",
        "outputId": "3e81217d-4be2-4bf2-b552-51f7d90acdbf"
      },
      "outputs": [
        {
          "output_type": "stream",
          "name": "stdout",
          "text": [
            "website https://uok.ac.rw is up (status:200)\n"
          ]
        }
      ],
      "source": [
        "import requests\n",
        "def check_website(url):\n",
        "   try:\n",
        "       response=requests.get(url ,timeout=5)\n",
        "       return f\"website {url} is up (status:{response.status_code})\"\n",
        "   except requests.exceptions.RequestException:\n",
        "       return f\"website{url} is unreachable\"\n",
        "print(check_website(\"https://uok.ac.rw\"))\n",
        ""
      ]
    },
    {
      "cell_type": "code",
      "source": [
        "import requests\n",
        "import smtplib\n",
        "from email.mime.text import MIMEText\n",
        "import logging\n",
        "import time\n",
        "\n",
        "logging.basicConfig(filename='website_status.log', level=logging.INFO)\n",
        "\n",
        "def send_email(subject, body, to):\n",
        "    msg = MIMEText(body)\n",
        "    msg['Subject'] = subject\n",
        "    msg['From'] = \"edgarbahati@gmail.com\"\n",
        "    msg['To'] = to\n",
        "\n",
        "    with smtplib.SMTP('smtp.example.com', 587) as server:\n",
        "        server.starttls()\n",
        "        server.login(\"your_email@example.com\", \"your_password\")\n",
        "        server.send_message(msg)\n",
        "\n",
        "def check_website(url):\n",
        "    try:\n",
        "        response = requests.get(url, timeout=5)\n",
        "        return f\"Website {url} is up (status: {response.status_code})\"\n",
        "    except requests.exceptions.RequestException as e:\n",
        "        logging.error(f\"Website {url} is unreachable: {e}\")\n",
        "        send_email(\"Website Down\", f\"Website {url} is unreachable: {e}\", \"recipient@example.com\")\n",
        "        return f\"Website {url} is unreachable\"\n",
        "\n",
        "urls = [\"https://uok.ac.rw\"]\n",
        "\n",
        "iterations =4\n",
        "\n",
        "for i in range(iterations):\n",
        "    for url in urls:\n",
        "        print(check_website(url))\n",
        "    time.sleep(3)\n",
        "\n"
      ],
      "metadata": {
        "colab": {
          "base_uri": "https://localhost:8080/"
        },
        "id": "2s5yQYxwQs_0",
        "outputId": "898e0463-5204-478b-f624-64872759b5c2"
      },
      "execution_count": 21,
      "outputs": [
        {
          "output_type": "stream",
          "name": "stdout",
          "text": [
            "Website https://uok.ac.rw is up (status: 200)\n",
            "Website https://uok.ac.rw is up (status: 200)\n",
            "Website https://uok.ac.rw is up (status: 200)\n",
            "Website https://uok.ac.rw is up (status: 200)\n"
          ]
        }
      ]
    }
  ]
}